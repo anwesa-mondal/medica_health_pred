{
 "cells": [
  {
   "cell_type": "code",
   "execution_count": null,
   "metadata": {
    "execution": {
     "iopub.execute_input": "2025-02-22T17:18:19.010911Z",
     "iopub.status.busy": "2025-02-22T17:18:19.010405Z",
     "iopub.status.idle": "2025-02-22T17:18:33.275564Z",
     "shell.execute_reply": "2025-02-22T17:18:33.274846Z",
     "shell.execute_reply.started": "2025-02-22T17:18:19.010872Z"
    },
    "trusted": true
   },
   "outputs": [],
   "source": [
    "import os\n",
    "import re\n",
    "import requests\n",
    "from PIL import Image\n",
    "import pandas as pd\n",
    "import numpy as np\n",
    "\n",
    "import seaborn as sns\n",
    "import matplotlib.pyplot as plt\n",
    "import plotly.express as px\n",
    "import plotly.graph_objects as go\n",
    "from plotly.subplots import make_subplots\n",
    "\n",
    "from sklearn.model_selection import train_test_split\n",
    "from sklearn.metrics import classification_report,confusion_matrix\n",
    "import tensorflow as tf\n",
    "from tensorflow.keras import layers\n",
    "from tensorflow.keras.layers import Conv2D, BatchNormalization, MaxPool2D, Dropout, Flatten, Dense\n",
    "from tensorflow.keras.callbacks import EarlyStopping, ModelCheckpoint, ReduceLROnPlateau\n",
    "from tensorflow.keras.preprocessing import image\n",
    "from tensorflow import keras\n",
    "from tensorflow.keras.models import Sequential\n",
    "from tensorflow.keras.optimizers import Adam, Adamax\n",
    "from tensorflow.keras.preprocessing.image import ImageDataGenerator\n",
    "\n",
    "from tensorflow.keras import regularizers\n",
    "import warnings\n",
    "warnings.filterwarnings('ignore')"
   ]
  },
  {
   "cell_type": "code",
   "execution_count": null,
   "metadata": {
    "execution": {
     "iopub.execute_input": "2025-02-22T17:18:43.123269Z",
     "iopub.status.busy": "2025-02-22T17:18:43.122726Z",
     "iopub.status.idle": "2025-02-22T17:18:43.373611Z",
     "shell.execute_reply": "2025-02-22T17:18:43.372936Z",
     "shell.execute_reply.started": "2025-02-22T17:18:43.123240Z"
    },
    "trusted": true
   },
   "outputs": [],
   "source": [
    "data_dir = '/kaggle/input/lung-and-colon-cancer-histopathological-images/lung_colon_image_set'\n",
    "filepaths = []\n",
    "labels = []\n",
    "\n",
    "folds = os.listdir(data_dir)\n",
    "for fold in folds:\n",
    "    foldpath = os.path.join(data_dir, fold)\n",
    "    flist = os.listdir(foldpath)\n",
    "\n",
    "    for f in flist:\n",
    "        f_path = os.path.join(foldpath, f)\n",
    "        filelist = os.listdir(f_path)\n",
    "\n",
    "        for file in filelist:\n",
    "            fpath = os.path.join(f_path, file)\n",
    "            filepaths.append(fpath)\n",
    "\n",
    "            if f == 'colon_aca':\n",
    "                labels.append('Colon Adenocarcinoma')\n",
    "\n",
    "            elif f == 'colon_n':\n",
    "                labels.append('Colon Benign Tissue')\n",
    "\n",
    "            elif f == 'lung_aca':\n",
    "                labels.append('Lung Adenocarcinoma')\n",
    "\n",
    "            elif f == 'lung_n':\n",
    "                labels.append('Lung Benign Tissue')\n",
    "\n",
    "            elif f == 'lung_scc':\n",
    "                labels.append('Lung Squamous Cell Carcinoma')\n",
    "\n",
    "Fseries = pd.Series(filepaths, name= 'filepaths')\n",
    "Lseries = pd.Series(labels, name='labels')\n",
    "df = pd.concat([Fseries, Lseries], axis= 1)"
   ]
  },
  {
   "cell_type": "code",
   "execution_count": null,
   "metadata": {
    "execution": {
     "iopub.execute_input": "2025-02-22T17:18:50.801129Z",
     "iopub.status.busy": "2025-02-22T17:18:50.800801Z",
     "iopub.status.idle": "2025-02-22T17:18:50.834115Z",
     "shell.execute_reply": "2025-02-22T17:18:50.833185Z",
     "shell.execute_reply.started": "2025-02-22T17:18:50.801105Z"
    },
    "trusted": true
   },
   "outputs": [],
   "source": [
    "\n",
    "strat = df['labels']\n",
    "train_df, dummy_df = train_test_split(df,  train_size= 0.8, shuffle= True, random_state= 123, stratify= strat)\n",
    "\n",
    "strat = dummy_df['labels']\n",
    "valid_df, test_df = train_test_split(dummy_df,  train_size= 0.5, shuffle= True, random_state= 123, stratify= strat)"
   ]
  },
  {
   "cell_type": "code",
   "execution_count": null,
   "metadata": {
    "execution": {
     "iopub.execute_input": "2025-02-22T17:18:55.438528Z",
     "iopub.status.busy": "2025-02-22T17:18:55.438183Z",
     "iopub.status.idle": "2025-02-22T17:19:47.087095Z",
     "shell.execute_reply": "2025-02-22T17:19:47.086266Z",
     "shell.execute_reply.started": "2025-02-22T17:18:55.438478Z"
    },
    "trusted": true
   },
   "outputs": [],
   "source": [
    "batch_size =64\n",
    "img_size = (224, 224)\n",
    "channels = 3\n",
    "img_shape = (img_size[0], img_size[1], channels)\n",
    "\n",
    "tr_gen = ImageDataGenerator()\n",
    "ts_gen = ImageDataGenerator()\n",
    "val_gen= ImageDataGenerator()\n",
    "\n",
    "train_gen = tr_gen.flow_from_dataframe( train_df, x_col= 'filepaths', y_col= 'labels', target_size= img_size, class_mode= 'categorical',\n",
    "                                    color_mode= 'rgb', shuffle= True, batch_size= batch_size)\n",
    "\n",
    "valid_gen = val_gen.flow_from_dataframe( valid_df, x_col= 'filepaths', y_col= 'labels', target_size= img_size, class_mode= 'categorical',\n",
    "                                    color_mode= 'rgb', shuffle= True, batch_size= batch_size)\n",
    "\n",
    "test_gen = ts_gen.flow_from_dataframe( test_df, x_col= 'filepaths', y_col= 'labels', target_size= img_size, class_mode= 'categorical',\n",
    "                                    color_mode= 'rgb', shuffle= False, batch_size= batch_size)"
   ]
  },
  {
   "cell_type": "code",
   "execution_count": null,
   "metadata": {
    "execution": {
     "iopub.execute_input": "2025-02-22T17:20:02.959797Z",
     "iopub.status.busy": "2025-02-22T17:20:02.959005Z",
     "iopub.status.idle": "2025-02-22T17:20:06.269798Z",
     "shell.execute_reply": "2025-02-22T17:20:06.268731Z",
     "shell.execute_reply.started": "2025-02-22T17:20:02.959766Z"
    },
    "trusted": true
   },
   "outputs": [],
   "source": [
    "g_dict = train_gen.class_indices    \n",
    "classes = list(g_dict.keys())       \n",
    "images, labels = next(train_gen)      \n",
    "\n",
    "plt.figure(figsize= (20, 20))\n",
    "\n",
    "for i in range(16):\n",
    "    plt.subplot(4, 4, i + 1)\n",
    "    image = images[i] / 255       \n",
    "    plt.imshow(image)\n",
    "    index = np.argmax(labels[i])  \n",
    "    class_name = classes[index]   \n",
    "    plt.title(class_name, color= 'blue', fontsize= 12)\n",
    "    plt.axis('off')\n",
    "plt.show()"
   ]
  },
  {
   "cell_type": "code",
   "execution_count": null,
   "metadata": {
    "execution": {
     "iopub.execute_input": "2025-02-22T17:20:14.672414Z",
     "iopub.status.busy": "2025-02-22T17:20:14.672089Z",
     "iopub.status.idle": "2025-02-22T17:20:15.769545Z",
     "shell.execute_reply": "2025-02-22T17:20:15.768653Z",
     "shell.execute_reply.started": "2025-02-22T17:20:14.672388Z"
    },
    "trusted": true
   },
   "outputs": [],
   "source": [
    "from tensorflow.keras.layers import Conv2D, MaxPooling2D, Flatten, Dense, Activation, Dropout, BatchNormalization\n",
    "img_size = (224, 224)\n",
    "channels = 3\n",
    "img_shape = (img_size[0], img_size[1], channels)\n",
    "class_count = len(list(train_gen.class_indices.keys()))\n",
    "\n",
    "model = Sequential([\n",
    "    Conv2D(filters=64, kernel_size=(3,3), padding=\"same\", activation=\"relu\", input_shape= img_shape),\n",
    "    Conv2D(filters=64, kernel_size=(3,3), padding=\"same\", activation=\"relu\"),\n",
    "    MaxPooling2D((2, 2)),\n",
    "    \n",
    "    Conv2D(filters=128, kernel_size=(3,3), padding=\"same\", activation=\"relu\"),\n",
    "    Conv2D(filters=128, kernel_size=(3,3), padding=\"same\", activation=\"relu\"),\n",
    "    MaxPooling2D((2, 2)),\n",
    "    \n",
    "    Conv2D(filters=256, kernel_size=(3,3), padding=\"same\", activation=\"relu\"),\n",
    "    Conv2D(filters=256, kernel_size=(3,3), padding=\"same\", activation=\"relu\"),\n",
    "    Conv2D(filters=256, kernel_size=(3,3), padding=\"same\", activation=\"relu\"),\n",
    "    MaxPooling2D((2, 2)),\n",
    "    \n",
    "    Conv2D(filters=512, kernel_size=(3,3), padding=\"same\", activation=\"relu\"),\n",
    "    Conv2D(filters=512, kernel_size=(3,3), padding=\"same\", activation=\"relu\"),\n",
    "    Conv2D(filters=512, kernel_size=(3,3), padding=\"same\", activation=\"relu\"),\n",
    "    MaxPooling2D((2, 2)),\n",
    "    \n",
    "    Conv2D(filters=512, kernel_size=(3,3), padding=\"same\", activation=\"relu\"),\n",
    "    Conv2D(filters=512, kernel_size=(3,3), padding=\"same\", activation=\"relu\"),\n",
    "    Conv2D(filters=512, kernel_size=(3,3), padding=\"same\", activation=\"relu\"),\n",
    "    MaxPooling2D((2, 2)),\n",
    "    \n",
    "    Flatten(),\n",
    "    Dense(256,activation = \"relu\"),\n",
    "    Dense(64,activation = \"relu\"),\n",
    "    Dense(class_count, activation = \"softmax\")\n",
    "])\n",
    "\n",
    "model.compile(Adamax(learning_rate= 0.001), loss= 'categorical_crossentropy', metrics= ['accuracy'])"
   ]
  },
  {
   "cell_type": "code",
   "execution_count": null,
   "metadata": {
    "execution": {
     "iopub.execute_input": "2025-02-22T17:20:18.661344Z",
     "iopub.status.busy": "2025-02-22T17:20:18.660958Z",
     "iopub.status.idle": "2025-02-22T17:20:18.712176Z",
     "shell.execute_reply": "2025-02-22T17:20:18.711394Z",
     "shell.execute_reply.started": "2025-02-22T17:20:18.661316Z"
    },
    "trusted": true
   },
   "outputs": [],
   "source": [
    "model.summary()"
   ]
  },
  {
   "cell_type": "code",
   "execution_count": null,
   "metadata": {
    "execution": {
     "iopub.execute_input": "2025-02-22T17:22:25.479435Z",
     "iopub.status.busy": "2025-02-22T17:22:25.478654Z",
     "iopub.status.idle": "2025-02-22T17:49:22.830697Z",
     "shell.execute_reply": "2025-02-22T17:49:22.829950Z",
     "shell.execute_reply.started": "2025-02-22T17:22:25.479406Z"
    },
    "trusted": true
   },
   "outputs": [],
   "source": [
    "epochs = 11  \n",
    "\n",
    "history = model.fit(x= train_gen, epochs= epochs, verbose= 1, validation_data= test_gen, \n",
    "                    validation_steps= None, shuffle= False)"
   ]
  },
  {
   "cell_type": "code",
   "execution_count": null,
   "metadata": {
    "execution": {
     "iopub.execute_input": "2025-02-22T17:53:21.093967Z",
     "iopub.status.busy": "2025-02-22T17:53:21.093351Z",
     "iopub.status.idle": "2025-02-22T17:53:21.516543Z",
     "shell.execute_reply": "2025-02-22T17:53:21.515685Z",
     "shell.execute_reply.started": "2025-02-22T17:53:21.093936Z"
    },
    "trusted": true
   },
   "outputs": [],
   "source": [
    "tr_acc = history.history['accuracy']\n",
    "tr_loss = history.history['loss']\n",
    "val_acc = history.history['val_accuracy']\n",
    "val_loss = history.history['val_loss']\n",
    "index_loss = np.argmin(val_loss)\n",
    "val_lowest = val_loss[index_loss]\n",
    "index_acc = np.argmax(val_acc)\n",
    "acc_highest = val_acc[index_acc]\n",
    "Epochs = [i+1 for i in range(len(tr_acc))]\n",
    "loss_label = f'best epoch= {str(index_loss + 1)}'\n",
    "acc_label = f'best epoch= {str(index_acc + 1)}'\n",
    "\n",
    "plt.figure(figsize= (20, 8))\n",
    "plt.style.use('fivethirtyeight')\n",
    "\n",
    "plt.subplot(1, 2, 1)\n",
    "plt.plot(Epochs, tr_loss, 'r', label= 'Training loss')\n",
    "plt.plot(Epochs, val_loss, 'g', label= 'Validation loss')\n",
    "plt.scatter(index_loss + 1, val_lowest, s= 150, c= 'blue', label= loss_label)\n",
    "plt.title('Training and Validation Loss')\n",
    "plt.xlabel('Epochs')\n",
    "plt.ylabel('Loss')\n",
    "plt.legend()\n",
    "\n",
    "plt.subplot(1, 2, 2)\n",
    "plt.plot(Epochs, tr_acc, 'r', label= 'Training Accuracy')\n",
    "plt.plot(Epochs, val_acc, 'g', label= 'Validation Accuracy')\n",
    "plt.scatter(index_acc + 1 , acc_highest, s= 150, c= 'blue', label= acc_label)\n",
    "plt.title('Training and Validation Accuracy')\n",
    "plt.xlabel('Epochs')\n",
    "plt.ylabel('Accuracy')\n",
    "plt.legend()\n",
    "\n",
    "plt.tight_layout\n",
    "plt.show()"
   ]
  },
  {
   "cell_type": "code",
   "execution_count": null,
   "metadata": {
    "execution": {
     "iopub.execute_input": "2025-02-22T17:53:41.604330Z",
     "iopub.status.busy": "2025-02-22T17:53:41.604013Z",
     "iopub.status.idle": "2025-02-22T17:54:39.401058Z",
     "shell.execute_reply": "2025-02-22T17:54:39.400202Z",
     "shell.execute_reply.started": "2025-02-22T17:53:41.604306Z"
    },
    "trusted": true
   },
   "outputs": [],
   "source": [
    "\n",
    "ts_length = len(test_df)\n",
    "test_batch_size = max(sorted([ts_length // n for n in range(1, ts_length + 1) if ts_length%n == 0 and ts_length/n <= 80]))\n",
    "test_steps = ts_length // test_batch_size\n",
    "\n",
    "train_score = model.evaluate(train_gen, steps= test_steps, verbose= 1)\n",
    "valid_score = model.evaluate(valid_gen, steps= test_steps, verbose= 1)\n",
    "test_score = model.evaluate(test_gen, steps= test_steps, verbose= 1)\n",
    "\n",
    "print(\"Train Loss: \", train_score[0])\n",
    "print(\"Train Accuracy: \", train_score[1])\n",
    "print('-' * 20)\n",
    "print(\"Valid Loss: \", valid_score[0])\n",
    "print(\"Valid Accuracy: \", valid_score[1])\n",
    "print('-' * 20)\n",
    "print(\"Test Loss: \", test_score[0])\n",
    "print(\"Test Accuracy: \", test_score[1])"
   ]
  },
  {
   "cell_type": "code",
   "execution_count": null,
   "metadata": {
    "execution": {
     "iopub.execute_input": "2025-02-22T17:54:53.899164Z",
     "iopub.status.busy": "2025-02-22T17:54:53.898336Z",
     "iopub.status.idle": "2025-02-22T17:55:06.604116Z",
     "shell.execute_reply": "2025-02-22T17:55:06.603394Z",
     "shell.execute_reply.started": "2025-02-22T17:54:53.899136Z"
    },
    "trusted": true
   },
   "outputs": [],
   "source": [
    "preds = model.predict_generator(test_gen)\n",
    "y_pred = np.argmax(preds, axis=1)"
   ]
  },
  {
   "cell_type": "code",
   "execution_count": null,
   "metadata": {
    "execution": {
     "iopub.execute_input": "2025-02-22T17:55:11.745070Z",
     "iopub.status.busy": "2025-02-22T17:55:11.744355Z",
     "iopub.status.idle": "2025-02-22T17:55:12.040731Z",
     "shell.execute_reply": "2025-02-22T17:55:12.039853Z",
     "shell.execute_reply.started": "2025-02-22T17:55:11.745042Z"
    },
    "trusted": true
   },
   "outputs": [],
   "source": [
    "import itertools\n",
    "g_dict = test_gen.class_indices\n",
    "classes = list(g_dict.keys())\n",
    "\n",
    "# Confusion matrix\n",
    "cm = confusion_matrix(test_gen.classes, y_pred)\n",
    "\n",
    "plt.figure(figsize= (10, 10))\n",
    "plt.imshow(cm, interpolation= 'nearest', cmap= plt.cm.Blues)\n",
    "plt.title('Confusion Matrix')\n",
    "plt.colorbar()\n",
    "\n",
    "tick_marks = np.arange(len(classes))\n",
    "plt.xticks(tick_marks, classes, rotation= 45)\n",
    "plt.yticks(tick_marks, classes)\n",
    "\n",
    "\n",
    "thresh = cm.max() / 2.\n",
    "for i, j in itertools.product(range(cm.shape[0]), range(cm.shape[1])):\n",
    "    plt.text(j, i, cm[i, j], horizontalalignment= 'center', color= 'white' if cm[i, j] > thresh else 'black')\n",
    "\n",
    "plt.tight_layout()\n",
    "plt.ylabel('True Label')\n",
    "plt.xlabel('Predicted Label')\n",
    "\n",
    "plt.show()"
   ]
  },
  {
   "cell_type": "code",
   "execution_count": null,
   "metadata": {
    "execution": {
     "iopub.execute_input": "2025-02-22T17:55:16.206241Z",
     "iopub.status.busy": "2025-02-22T17:55:16.205438Z",
     "iopub.status.idle": "2025-02-22T17:55:16.220306Z",
     "shell.execute_reply": "2025-02-22T17:55:16.219514Z",
     "shell.execute_reply.started": "2025-02-22T17:55:16.206214Z"
    },
    "trusted": true
   },
   "outputs": [],
   "source": [
    "print(classification_report(test_gen.classes, y_pred, target_names= classes))"
   ]
  },
  {
   "cell_type": "code",
   "execution_count": null,
   "metadata": {
    "execution": {
     "iopub.execute_input": "2025-02-22T17:55:28.113093Z",
     "iopub.status.busy": "2025-02-22T17:55:28.112759Z",
     "iopub.status.idle": "2025-02-22T17:55:28.649348Z",
     "shell.execute_reply": "2025-02-22T17:55:28.648675Z",
     "shell.execute_reply.started": "2025-02-22T17:55:28.113070Z"
    },
    "trusted": true
   },
   "outputs": [],
   "source": [
    "model.save('Model.h5')"
   ]
  },
  {
   "cell_type": "code",
   "execution_count": null,
   "metadata": {
    "execution": {
     "iopub.execute_input": "2025-02-22T17:55:50.754554Z",
     "iopub.status.busy": "2025-02-22T17:55:50.753782Z",
     "iopub.status.idle": "2025-02-22T17:55:51.137909Z",
     "shell.execute_reply": "2025-02-22T17:55:51.136975Z",
     "shell.execute_reply.started": "2025-02-22T17:55:50.754525Z"
    },
    "trusted": true
   },
   "outputs": [],
   "source": [
    "loaded_model = tf.keras.models.load_model('/kaggle/working/Model.h5', compile=False)\n",
    "loaded_model.compile(Adamax(learning_rate= 0.001), loss= 'categorical_crossentropy', metrics= ['accuracy'])"
   ]
  },
  {
   "cell_type": "code",
   "execution_count": null,
   "metadata": {
    "execution": {
     "iopub.execute_input": "2025-02-22T17:55:54.560320Z",
     "iopub.status.busy": "2025-02-22T17:55:54.559661Z",
     "iopub.status.idle": "2025-02-22T17:55:55.244342Z",
     "shell.execute_reply": "2025-02-22T17:55:55.243677Z",
     "shell.execute_reply.started": "2025-02-22T17:55:54.560293Z"
    },
    "trusted": true
   },
   "outputs": [],
   "source": [
    "image_path = '/kaggle/input/lung-and-colon-cancer-histopathological-images/lung_colon_image_set/lung_image_sets/lung_aca/lungaca1001.jpeg'\n",
    "image = Image.open(image_path)\n",
    "\n",
    "img = image.resize((224, 224))\n",
    "img_array = tf.keras.preprocessing.image.img_to_array(img)\n",
    "img_array = tf.expand_dims(img_array, 0)\n",
    "\n",
    "predictions = loaded_model.predict(img_array)\n",
    "class_labels = classes\n",
    "score = tf.nn.softmax(predictions[0])\n",
    "print(f\"{class_labels[tf.argmax(score)]}\")"
   ]
  }
 ],
 "metadata": {
  "kaggle": {
   "accelerator": "gpu",
   "dataSources": [
    {
     "datasetId": 601280,
     "sourceId": 1079953,
     "sourceType": "datasetVersion"
    }
   ],
   "dockerImageVersionId": 30648,
   "isGpuEnabled": true,
   "isInternetEnabled": true,
   "language": "python",
   "sourceType": "notebook"
  },
  "kernelspec": {
   "display_name": "Python 3",
   "language": "python",
   "name": "python3"
  },
  "language_info": {
   "codemirror_mode": {
    "name": "ipython",
    "version": 3
   },
   "file_extension": ".py",
   "mimetype": "text/x-python",
   "name": "python",
   "nbconvert_exporter": "python",
   "pygments_lexer": "ipython3",
   "version": "3.10.13"
  }
 },
 "nbformat": 4,
 "nbformat_minor": 4
}
